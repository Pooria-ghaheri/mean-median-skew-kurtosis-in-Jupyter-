{
 "cells": [
  {
   "cell_type": "code",
   "execution_count": 2,
   "id": "b2271c12",
   "metadata": {},
   "outputs": [],
   "source": [
    "from scipy.stats import skew, kurtosis\n",
    "import pandas as pd\n",
    "import numpy as np\n",
    "import seaborn as sns\n",
    "%matplotlib inline\n",
    "import matplotlib.pyplot as plt"
   ]
  },
  {
   "cell_type": "code",
   "execution_count": 3,
   "id": "0e9e8683",
   "metadata": {},
   "outputs": [
    {
     "name": "stdout",
     "output_type": "stream",
     "text": [
      "     Names  ages  values  dates  monts  number of child  profit  investment\n",
      "0    jack1    20   20000    NaN    NaN              NaN   25000        5000\n",
      "1    jack2    30   30000    NaN    NaN              NaN   15000        1000\n",
      "2    jack3    15   15000    NaN    NaN              NaN   50000        2000\n",
      "3    jack4    40   40000    NaN    NaN              NaN   35000       10000\n",
      "4    jack5    50   50000    NaN    NaN              NaN   10000        1200\n",
      "5    jack6    23   23000    NaN    NaN              NaN   23000        5000\n",
      "6    jack7    46   46000    NaN    NaN              NaN  100000       10000\n",
      "7    jack8    52   52000    NaN    NaN              NaN   50000        8000\n",
      "8    jack9    23   23000    NaN    NaN              NaN    8000        1000\n",
      "9   jack10    32   32000    NaN    NaN              NaN    3000         300\n",
      "10  jack11    10   10000    NaN    NaN              NaN   55000        5000\n",
      "11  jack12    17   17000    NaN    NaN              NaN   42000        3500\n",
      "12  jack13    18   18000    NaN    NaN              NaN    1100        8000\n",
      "13  jack14    80   80000    NaN    NaN              NaN    1000        5000\n",
      "14  jack15    65   50000    NaN    NaN              NaN    1200       12000\n"
     ]
    }
   ],
   "source": [
    "df = pd.read_excel(r'C:\\Users\\Pooria\\Desktop\\Sample.xlsx')\n",
    "#Because we have String in our Excel , we have to convert columns we need in order to get mean,median,skew,kurtosis\n",
    "df['ages'] = df['ages'].astype(int)\n",
    "df['values'] = df['values'].astype(int)\n",
    "df['profit'] = df['profit'].astype(int)\n",
    "df['investment'] = df['investment'].astype(int)\n",
    "print(df)"
   ]
  },
  {
   "cell_type": "code",
   "execution_count": 4,
   "id": "49a7ab3b",
   "metadata": {},
   "outputs": [
    {
     "data": {
      "text/plain": [
       "<seaborn.axisgrid.FacetGrid at 0x1d31ef82370>"
      ]
     },
     "execution_count": 4,
     "metadata": {},
     "output_type": "execute_result"
    },
    {
     "data": {
      "image/png": "[encoded data removed]",
      "text/plain": [
       "<Figure size 720x360 with 1 Axes>"
      ]
     },
     "metadata": {
      "needs_background": "light"
     },
     "output_type": "display_data"
    },
    {
     "data": {
      "image/png": "[encoded data removed]",
      "text/plain": [
       "<Figure size 402.375x360 with 1 Axes>"
      ]
     },
     "metadata": {
      "needs_background": "light"
     },
     "output_type": "display_data"
    }
   ],
   "source": [
    "plt.figure(figsize=(10, 5))\n",
    "plt.subplot(121)\n",
    "normal_rets = np.random.normal(0, 1, (1000000, 1))\n",
    "sns.displot(normal_rets)"
   ]
  },
  {
   "cell_type": "code",
   "execution_count": 5,
   "id": "b5f1336d",
   "metadata": {},
   "outputs": [
    {
     "data": {
      "text/plain": [
       "30.0"
      ]
     },
     "execution_count": 5,
     "metadata": {},
     "output_type": "execute_result"
    }
   ],
   "source": [
    "np.median(df['ages']) # you can get median of ages/values/profit/investment by replacing ages"
   ]
  },
  {
   "cell_type": "code",
   "execution_count": 6,
   "id": "c7f961aa",
   "metadata": {},
   "outputs": [
    {
     "data": {
      "text/plain": [
       "34.733333333333334"
      ]
     },
     "execution_count": 6,
     "metadata": {},
     "output_type": "execute_result"
    }
   ],
   "source": [
    "np.mean(df['ages'])# you can get mean of ages/values/profit/investment by replacing ages"
   ]
  },
  {
   "cell_type": "code",
   "execution_count": 7,
   "id": "bdbd9cb0",
   "metadata": {},
   "outputs": [
    {
     "data": {
      "text/plain": [
       "0.8055092641780052"
      ]
     },
     "execution_count": 7,
     "metadata": {},
     "output_type": "execute_result"
    }
   ],
   "source": [
    "skew(df['ages'])# you can get skew of ages/values/profit/investment by replacing ages"
   ]
  },
  {
   "cell_type": "code",
   "execution_count": 8,
   "id": "a004d04c",
   "metadata": {},
   "outputs": [
    {
     "data": {
      "text/plain": [
       "-0.3017123278837168"
      ]
     },
     "execution_count": 8,
     "metadata": {},
     "output_type": "execute_result"
    }
   ],
   "source": [
    "kurtosis(df['ages'])# you can get kurtosis of ages/values/profit/investment by replacing ages"
   ]
  },
  {
   "cell_type": "code",
   "execution_count": null,
   "id": "04c28a59",
   "metadata": {},
   "outputs": [],
   "source": []
  }
 ],
 "metadata": {
  "kernelspec": {
   "display_name": "Python 3 (ipykernel)",
   "language": "python",
   "name": "python3"
  },
  "language_info": {
   "codemirror_mode": {
    "name": "ipython",
    "version": 3
   },
   "file_extension": ".py",
   "mimetype": "text/x-python",
   "name": "python",
   "nbconvert_exporter": "python",
   "pygments_lexer": "ipython3",
   "version": "3.9.12"
  }
 },
 "nbformat": 4,
 "nbformat_minor": 5
}
